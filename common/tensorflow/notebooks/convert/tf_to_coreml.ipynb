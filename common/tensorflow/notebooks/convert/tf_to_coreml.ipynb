{
 "cells": [
  {
   "cell_type": "code",
   "execution_count": null,
   "metadata": {},
   "outputs": [],
   "source": [
    "import tensorflow as tf\n",
    "from tensorflow import keras\n",
    "from tensorflow.keras import layers\n",
    "\n",
    "import pandas as pd\n",
    "\n",
    "import coremltools as ct\n",
    "from coremltools.models import MLModel\n",
    "\n",
    "import numpy as np\n",
    "import matplotlib.pyplot as plt\n",
    "\n",
    "%matplotlib inline\n",
    "\n",
    "print(\"Tensorflow version:\", tf.__version__)\n",
    "print(\"Numpy version:\", np.__version__)\n",
    "print(\"Core ML tools version:\", ct.__version__)\n",
    "\n",
    "!mkdir -p 'mlmodels/'\n",
    "mlmodel_url = \"mlmodels/MNISTexample.mlmodel\"\n",
    "mlmodel_url_updatable = \"mlmodels/MNISTexampleUpdatable.mlmodel\"\n",
    "\n",
    "saved_model_path = \"tfmodels/coreml_mnist_numbers\"\n",
    "saved_lite_model_path = \"tflitemodels/coreml_mnist_numbers_100.tflite\"\n",
    "checkpoint_path = \"tfcheckpoints/coreml_checkpointmnistnumbers.ckpt\""
   ]
  },
  {
   "cell_type": "markdown",
   "metadata": {},
   "source": [
    "IMPORTANT\n",
    "This notebook is not running. It was used to convert a TensorFlow model into a Core ML model, which does not seem to work currently, because of incompatibilities in recent versions.\n",
    "\n",
    "https://coremltools.readme.io/docs/comparing-ml-programs-and-neural-networks\n",
    "https://github.com/apple/coremltools/issues/523\n",
    "https://github.com/apple/coremltools/issues/534\n"
   ]
  },
  {
   "cell_type": "code",
   "execution_count": null,
   "metadata": {},
   "outputs": [],
   "source": [
    "# create the kears model\n",
    "\n",
    "keras_model = tf.keras.Sequential([\n",
    "            tf.keras.layers.Dense(128, input_shape=(784,), name='dense_1', activation='relu'),\n",
    "            tf.keras.layers.Dense(10, name='dense_2'),\n",
    "        ])\n",
    "\n",
    "\n",
    "keras_model.compile(\n",
    "            optimizer='adam',\n",
    "            loss=tf.keras.losses.CategoricalCrossentropy(from_logits=True))"
   ]
  },
  {
   "cell_type": "code",
   "execution_count": null,
   "metadata": {},
   "outputs": [],
   "source": [
    "# convert to core ml format\n",
    "\n",
    "class_labels = ['0', '1', '2', '3', '4', '5', '6', '7', '8', '9']\n",
    "\n",
    "# Pass in `tf.keras.Model` to the Unified Conversion API\n",
    "mlmodel = ct.convert(keras_model, convert_to=\"neuralnetwork\")\n",
    "\n",
    "\n",
    "mlmodel.save(mlmodel_url)"
   ]
  },
  {
   "cell_type": "code",
   "execution_count": null,
   "metadata": {},
   "outputs": [],
   "source": [
    "# inspect\n",
    "spec = ct.utils.load_spec(mlmodel_url)\n",
    "builder = ct.models.neural_network.NeuralNetworkBuilder(spec=spec)\n",
    "builder.inspect_layers(last=4)"
   ]
  },
  {
   "cell_type": "code",
   "execution_count": null,
   "metadata": {},
   "outputs": [],
   "source": [
    "# inspect input of the model\n",
    "builder.inspect_input_features()\n",
    "neuralnetwork_spec = builder.spec"
   ]
  },
  {
   "cell_type": "code",
   "execution_count": null,
   "metadata": {},
   "outputs": [],
   "source": [
    "# meta data for preview\n",
    "# Set input and output description\n",
    "neuralnetwork_spec.description.input[0].shortDescription = 'Input image of the handwriten digit to classify'\n",
    "neuralnetwork_spec.description.output[0].shortDescription = 'Probabilities / score for each possible digit'\n",
    "#neuralnetwork_spec.description.output[1].shortDescription = 'Predicted digit'"
   ]
  },
  {
   "cell_type": "code",
   "execution_count": null,
   "metadata": {},
   "outputs": [],
   "source": [
    "# make_updatable method is used to make a layer updatable. It requires a list of layer names.\n",
    "# dense_1 and dense_2 are two innerProduct layer in this example and we make them updatable.\n",
    "builder.make_updatable(['sequential_2/dense_1/MatMul', 'dense_2'])\n",
    "\n",
    "# Categorical Cross Entropy or Mean Squared Error can be chosen for the loss layer.\n",
    "# Categorical Cross Entropy is used on this example. CCE requires two inputs: 'name' and 'input'.\n",
    "# name must be a string and will be the name associated with the loss layer\n",
    "# input must be the output of a softmax layer in the case of CCE. \n",
    "# The loss's target will be provided automatically as a part of the model's training inputs.\n",
    "builder.set_categorical_cross_entropy_loss(name='lossLayer', input='digitProbabilities')\n",
    "\n",
    "# in addition of the loss layer, an optimizer must also be defined. SGD and Adam optimizers are supported.\n",
    "# SGD has been used for this example. To use SGD, one must set lr(learningRate) and batch(miniBatchSize) \n",
    "#(momentum is an optional parameter).\n",
    "from coremltools.models.neural_network import SgdParams\n",
    "builder.set_sgd_optimizer(SgdParams(lr=0.01, batch=32))\n",
    "\n",
    "# Finally, the number of epochs must be set as follows.\n",
    "builder.set_epochs(10)\n",
    "\n",
    "# Set training inputs descriptions\n",
    "neuralnetwork_spec.description.trainingInput[0].shortDescription = 'Example image of handwritten digit'\n",
    "neuralnetwork_spec.description.trainingInput[1].shortDescription = 'Associated true label (digit) of example image'\n",
    "\n",
    "# save the updated spec\n",
    "mlmodel_updatable = MLModel(neuralnetwork_spec)\n",
    "mlmodel_updatable.save(mlmodel_url_updatable)"
   ]
  }
 ],
 "metadata": {
  "kernelspec": {
   "display_name": "Python 3",
   "language": "python",
   "name": "python3"
  },
  "language_info": {
   "codemirror_mode": {
    "name": "ipython",
    "version": 3
   },
   "file_extension": ".py",
   "mimetype": "text/x-python",
   "name": "python",
   "nbconvert_exporter": "python",
   "pygments_lexer": "ipython3",
   "version": "3.8.10"
  }
 },
 "nbformat": 4,
 "nbformat_minor": 2
}
