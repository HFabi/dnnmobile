{
 "cells": [
  {
   "cell_type": "code",
   "execution_count": null,
   "metadata": {},
   "outputs": [],
   "source": [
    "import tensorflow as tf\n",
    "from tensorflow import keras\n",
    "from tensorflow.keras import layers\n",
    "\n",
    "import numpy as np\n",
    "import matplotlib.pyplot as plt\n",
    "\n",
    "from sklearn.preprocessing import LabelEncoder\n",
    "from sklearn.model_selection import train_test_split\n",
    "\n",
    "import pandas as pd # data processing, CSV file I/O (e.g. pd.read_csv)\n",
    "\n",
    "%matplotlib inline\n",
    "\n",
    "print(\"Tensorflow version:\", tf.__version__)\n",
    "print(\"Numpy version:\", np.__version__)\n",
    "print(\"Pandas version:\", pd.__version__)"
   ]
  },
  {
   "cell_type": "markdown",
   "metadata": {},
   "source": [
    "# Pre-processing Breast Cancer Wisconsin\n",
    "This notebook contains the preparation of the Breast Cancer Wisconsin (https://www.kaggle.com/datasets/uciml/breast-cancer-wisconsin-data) data set for our benchmarking."
   ]
  },
  {
   "cell_type": "code",
   "execution_count": null,
   "metadata": {},
   "outputs": [],
   "source": [
    "# import\n",
    "dataframe1 = pd.read_csv('../datasets/breastcancer.csv')\n",
    "\n",
    "# replace B and M with numbers, 0 = B; 1 = M \n",
    "diagnosis = LabelEncoder()\n",
    "dataframe1['diagnosis'] = diagnosis.fit_transform(dataframe1['diagnosis']) \n",
    "\n",
    "# drop first column id and last unnamed column\n",
    "dataframe1.drop(columns =['id','Unnamed: 32'], axis=1, inplace=True)\n",
    "\n",
    "# print samples\n",
    "dataframe1.sample(10)"
   ]
  },
  {
   "cell_type": "code",
   "execution_count": null,
   "metadata": {},
   "outputs": [],
   "source": [
    "x_train, x_test, y_train, y_test = train_test_split(dataframe1.loc[:,dataframe1.columns != 'diagnosis'],\n",
    "                                                    dataframe1['diagnosis'],\n",
    "                                                    test_size=0.3)\n",
    "print(x_train.shape)\n",
    "print(x_test.shape)\n",
    "print(y_train.shape)\n",
    "print(y_test.shape)\n",
    "x_train.head()"
   ]
  },
  {
   "cell_type": "code",
   "execution_count": null,
   "metadata": {},
   "outputs": [],
   "source": [
    "# Normalize\n",
    "from sklearn import preprocessing\n",
    "# Compute the mean and std to be used for later scaling.\n",
    "preprocessParams = preprocessing.StandardScaler().fit(x_train)\n",
    "# Perform standardization by centering and scaling.\n",
    "x_train_normalized = preprocessParams.transform(x_train)\n",
    "x_test_normalized = preprocessParams.transform(x_test)\n",
    "\n",
    "print(x_train[:1])\n",
    "print(x_train_normalized[:1] )\n",
    "\n",
    "\n",
    "# categorial\n",
    "from keras.utils import to_categorical\n",
    "y_train_categorial = to_categorical(y_train)\n",
    "y_test_categorial = to_categorical(y_test)"
   ]
  },
  {
   "cell_type": "code",
   "execution_count": null,
   "metadata": {},
   "outputs": [],
   "source": [
    "# save pre processed datasets\n",
    "pd.DataFrame(x_train_normalized).to_csv('../datasets/breastcancer_train_input.csv', header=None, index=None)\n",
    "pd.DataFrame(y_train).to_csv('../datasets/breastcancer_train_target.csv', header=None, index=None)\n",
    "pd.DataFrame(x_test_normalized).to_csv('../datasets/breastcancer_test_input.csv', header=None, index=None)\n",
    "pd.DataFrame(y_test).to_csv('../datasets/breastcancer_test_target.csv', header=None, index=None)\n",
    "\n",
    "pd.DataFrame(y_train_categorial).to_csv('../datasets/breastcancer_train_target_categorical.csv', header=None, index=None)\n",
    "pd.DataFrame(y_test_categorial).to_csv('../datasets/breastcancer_test_target_categorical.csv', header=None, index=None)"
   ]
  },
  {
   "cell_type": "code",
   "execution_count": null,
   "metadata": {},
   "outputs": [],
   "source": [
    "# test the data stt\n",
    "model2 = keras.Sequential()\n",
    "model2.add(layers.Dense(32, input_dim=30))\n",
    "model2.add(layers.Activation('relu'))\n",
    "model2.add(layers.Dense(16))\n",
    "model2.add(layers.Activation('relu'))\n",
    "model2.add(layers.Dense(8))\n",
    "model2.add(layers.Activation('relu'))\n",
    "model2.add(layers.Dense(1))\n",
    "model2.add(layers.Activation('sigmoid'))\n",
    "\n",
    "print(model2.summary())\n",
    "\n",
    "sgd = keras.optimizers.Adam\n",
    "model2.compile(loss='binary_crossentropy', optimizer='adam')\n",
    "\n",
    "model2.fit(x_train, y_train, epochs=100)\n",
    "\n",
    "print(x_test[1:2])\n",
    "\n",
    "print(model2.predict(x_test[:1]))\n",
    "print(model2.predict(x_test[1:2]))"
   ]
  }
 ],
 "metadata": {
  "kernelspec": {
   "display_name": "Python 3",
   "language": "python",
   "name": "python3"
  },
  "language_info": {
   "codemirror_mode": {
    "name": "ipython",
    "version": 3
   },
   "file_extension": ".py",
   "mimetype": "text/x-python",
   "name": "python",
   "nbconvert_exporter": "python",
   "pygments_lexer": "ipython3",
   "version": "3.8.10"
  }
 },
 "nbformat": 4,
 "nbformat_minor": 2
}
