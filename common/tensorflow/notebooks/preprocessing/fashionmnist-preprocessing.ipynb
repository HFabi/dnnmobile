{
 "cells": [
  {
   "cell_type": "code",
   "execution_count": null,
   "metadata": {},
   "outputs": [],
   "source": [
    "import tensorflow as tf\n",
    "from tensorflow import keras\n",
    "from tensorflow.keras import layers\n",
    "\n",
    "%matplotlib inline\n",
    "import numpy as np\n",
    "import matplotlib.pyplot as plt\n",
    "\n",
    "\n",
    "from sklearn.preprocessing import LabelEncoder\n",
    "from sklearn.model_selection import train_test_split\n",
    "\n",
    "import pandas as pd # data processing, CSV file I/O (e.g. pd.read_csv)\n",
    "\n",
    "%matplotlib inline\n",
    "\n",
    "print(\"Tensorflow version:\", tf.__version__)\n",
    "print(\"Numpy version:\", np.__version__)\n",
    "print(\"Pandas version:\", pd.__version__)"
   ]
  },
  {
   "cell_type": "markdown",
   "metadata": {},
   "source": [
    "# Pre-processing Fashion MNIST\n",
    "This notebook contains the preparation of the Fashion MNIST (https://www.kaggle.com/datasets/zalando-research/fashionmnist) data set for our benchmarking."
   ]
  },
  {
   "cell_type": "code",
   "execution_count": null,
   "metadata": {},
   "outputs": [],
   "source": [
    "# import\n",
    "dataframeTrain = pd.read_csv('../datasets/fashion_mnist_train.csv')\n",
    "dataframeTest = pd.read_csv('../datasets/fashion_mnist_test.csv')\n",
    "\n",
    "# print samples\n",
    "dataframeTrain.sample(10)"
   ]
  },
  {
   "cell_type": "code",
   "execution_count": null,
   "metadata": {},
   "outputs": [],
   "source": [
    "x_train = dataframeTrain.loc[:,dataframeTrain.columns != 'label']\n",
    "y_train = dataframeTrain['label']\n",
    "x_test = dataframeTest.loc[:,dataframeTest.columns != 'label']\n",
    "y_test = dataframeTest['label']\n",
    "\n",
    "print(x_train.shape)\n",
    "print(x_test.shape)\n",
    "print(y_train.shape)\n",
    "print(y_test.shape)"
   ]
  },
  {
   "cell_type": "code",
   "execution_count": null,
   "metadata": {},
   "outputs": [],
   "source": [
    "# Normalize\n",
    "x_train_normalized = x_train/255.0\n",
    "x_test_normalized = x_test/255.0\n",
    "\n",
    "# Categorial\n",
    "y_train_categorial = tf.keras.utils.to_categorical(y_train)\n",
    "y_test_categorial = tf.keras.utils.to_categorical(y_test)"
   ]
  },
  {
   "cell_type": "code",
   "execution_count": null,
   "metadata": {},
   "outputs": [],
   "source": [
    "# full\n",
    "pd.DataFrame(x_train_normalized).to_csv('../datasets/fashion_mnist_train_input.csv', header=None, index=None)\n",
    "pd.DataFrame(y_train_categorial).to_csv('../datasets/fashion_mnist_train_target_categorical.csv', header=None, index=None)\n",
    "pd.DataFrame(x_test_normalized).to_csv('../datasets/fashion_mnist_test_input.csv', header=None, index=None)\n",
    "pd.DataFrame(y_test_categorial).to_csv('../datasets/fashion_mnist_test_target_categorical.csv', header=None, index=None)"
   ]
  },
  {
   "cell_type": "code",
   "execution_count": null,
   "metadata": {},
   "outputs": [],
   "source": [
    "# small\n",
    "pd.DataFrame(x_train_normalized).iloc[0:600].to_csv('../datasets/fashion_mnist_600_train_input.csv', header=None, index=None)\n",
    "pd.DataFrame(y_train_categorial).iloc[0:600].to_csv('../datasets/fashion_mnist_600_train_target_categorical.csv', header=None, index=None)\n",
    "pd.DataFrame(x_test_normalized).iloc[0:100].to_csv('../datasets/fashion_mnist_100_test_input.csv', header=None, index=None)\n",
    "pd.DataFrame(y_test_categorial).iloc[0:100].to_csv('../datasets/fashion_mnist_100_test_target_categorical.csv', header=None, index=None)"
   ]
  }
 ],
 "metadata": {
  "kernelspec": {
   "display_name": "Python 3",
   "language": "python",
   "name": "python3"
  },
  "language_info": {
   "codemirror_mode": {
    "name": "ipython",
    "version": 3
   },
   "file_extension": ".py",
   "mimetype": "text/x-python",
   "name": "python",
   "nbconvert_exporter": "python",
   "pygments_lexer": "ipython3",
   "version": "3.8.10"
  }
 },
 "nbformat": 4,
 "nbformat_minor": 2
}
